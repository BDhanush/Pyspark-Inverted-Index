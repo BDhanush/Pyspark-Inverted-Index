{
 "cells": [
  {
   "cell_type": "code",
   "execution_count": 1,
   "id": "9d1a575d",
   "metadata": {},
   "outputs": [],
   "source": [
    "import pyspark\n",
    "from pyspark import SparkContext \n",
    "\n",
    "path = 'text_files'"
   ]
  },
  {
   "cell_type": "code",
   "execution_count": 5,
   "id": "95c90ff3",
   "metadata": {},
   "outputs": [],
   "source": [
    "rdd = sc.wholeTextFiles(path, minPartitions=3)\n",
    "\n",
    "output0 = rdd.flatMapValues(lambda allLines: allLines.lower().split())\n",
    "\n",
    "output1 = output0.map(lambda keyVal:(keyVal[1],keyVal[0].replace(\"file:\"+path+\"/\",\"\",1)))\n",
    "\n",
    "input1 = output1.mapValues(lambda x:[x]).reduceByKey(lambda x,y: x+y)\n",
    "\n",
    "output2 = input1.flatMapValues(lambda fileList: fileList).mapValues(lambda file:(file,1))\n",
    "\n",
    "output3 = output2.map(lambda x:((x[0],x[1][0]),x[1][1])).reduceByKey(lambda k1,k2:k1+k2)\n",
    "\n",
    "output4 = output3.map(lambda x:(x[0][0],(x[0][1],x[1]))).mapValues(lambda x:[x]).reduceByKey(lambda x,y: x+y)"
   ]
  },
  {
   "cell_type": "code",
   "execution_count": 6,
   "id": "c119eebc",
   "metadata": {},
   "outputs": [],
   "source": [
    "op_final = output4.collect()"
   ]
  },
  {
   "cell_type": "code",
   "execution_count": 7,
   "id": "c4b8c6fd",
   "metadata": {},
   "outputs": [
    {
     "data": {
      "text/plain": [
       "1077"
      ]
     },
     "execution_count": 7,
     "metadata": {},
     "output_type": "execute_result"
    }
   ],
   "source": [
    "len(op_final)"
   ]
  },
  {
   "cell_type": "code",
   "execution_count": 9,
   "id": "8859a665",
   "metadata": {},
   "outputs": [],
   "source": [
    "# op_final"
   ]
  },
  {
   "cell_type": "code",
   "execution_count": null,
   "id": "6c1d9171",
   "metadata": {},
   "outputs": [],
   "source": []
  },
  {
   "cell_type": "code",
   "execution_count": null,
   "id": "bb6d2b5c",
   "metadata": {},
   "outputs": [],
   "source": []
  },
  {
   "cell_type": "code",
   "execution_count": null,
   "id": "a740353e",
   "metadata": {},
   "outputs": [],
   "source": []
  }
 ],
 "metadata": {
  "kernelspec": {
   "display_name": "Python 3 (ipykernel)",
   "language": "python",
   "name": "python3"
  },
  "language_info": {
   "codemirror_mode": {
    "name": "ipython",
    "version": 3
   },
   "file_extension": ".py",
   "mimetype": "text/x-python",
   "name": "python",
   "nbconvert_exporter": "python",
   "pygments_lexer": "ipython3",
   "version": "3.10.6"
  }
 },
 "nbformat": 4,
 "nbformat_minor": 5
}
